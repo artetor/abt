{
 "cells": [
  {
   "cell_type": "code",
   "execution_count": 3,
   "metadata": {},
   "outputs": [],
   "source": [
    "%load_ext autoreload\n",
    "%autoreload 2\n",
    "\n",
    "import os\n",
    "from collections import defaultdict\n",
    "\n",
    "import matplotlib.pyplot as plt\n",
    "import numpy as np\n",
    "import pandas as pd\n",
    "import seaborn as sns\n",
    "from multiprocess import Pool  # its fork for multiprocessing that works fine for me\n",
    "from scipy import stats\n",
    "from tqdm import tqdm\n",
    "\n",
    "from src import abt, utils\n"
   ]
  },
  {
   "cell_type": "code",
   "execution_count": null,
   "metadata": {},
   "outputs": [],
   "source": [
    "\n",
    "манна уитни\n",
    "\n",
    "аа тест\n",
    "\n",
    "руками вводить мощность и p-value\n",
    "\n",
    "как определять \n",
    "\n",
    "тест на нормальность (шапиро-уилка)\n",
    "\n",
    "mde (minimal detectable effect) -- бутстрап или permutation test\n",
    "\n",
    "тест манна-уитни, т-тест, бутстрап, перестановочный"
   ]
  },
  {
   "cell_type": "code",
   "execution_count": null,
   "metadata": {},
   "outputs": [],
   "source": [
    "TODO: multiproccessing, mannwhitney for medians (med1 = med2)"
   ]
  },
  {
   "cell_type": "code",
   "execution_count": 4,
   "metadata": {},
   "outputs": [
    {
     "name": "stdout",
     "output_type": "stream",
     "text": [
      "6922.711925695897 6923.655464656396\n"
     ]
    },
    {
     "name": "stderr",
     "output_type": "stream",
     "text": [
      "/Users/artemiy/anaconda3/envs/general/lib/python3.11/site-packages/scipy/stats/_continuous_distns.py:6832: RuntimeWarning: invalid value encountered in _nct_sf\n",
      "  return np.clip(_boost._nct_sf(x, df, nc), 0, 1)\n",
      "/Users/artemiy/anaconda3/envs/general/lib/python3.11/site-packages/scipy/stats/_continuous_distns.py:6826: RuntimeWarning: invalid value encountered in _nct_cdf\n",
      "  return np.clip(_boost._nct_cdf(x, df, nc), 0, 1)\n",
      "/Users/artemiy/anaconda3/envs/general/lib/python3.11/site-packages/scipy/stats/_continuous_distns.py:6832: RuntimeWarning: overflow encountered in _nct_sf\n",
      "  return np.clip(_boost._nct_sf(x, df, nc), 0, 1)\n",
      "/Users/artemiy/anaconda3/envs/general/lib/python3.11/site-packages/scipy/stats/_continuous_distns.py:6826: RuntimeWarning: overflow encountered in _nct_cdf\n",
      "  return np.clip(_boost._nct_cdf(x, df, nc), 0, 1)\n"
     ]
    }
   ],
   "source": [
    "alpha = 0.05\n",
    "beta = 0.2\n",
    "means_diff = 0.1\n",
    "std = 2.1\n",
    "print(\n",
    "    abt.lower_bound(alpha, beta, means_diff, std),\n",
    "    abt.lower_bound_statsmodels(alpha, beta, means_diff, std)\n",
    ")"
   ]
  },
  {
   "cell_type": "code",
   "execution_count": 35,
   "metadata": {},
   "outputs": [
    {
     "name": "stdout",
     "output_type": "stream",
     "text": [
      "ttest                0.77\n",
      "mannwhitneyu         0.77\n",
      "bootstrap            0.77\n",
      "bootstrap_concat     0.77\n",
      "permutation          0.77\n",
      "permutation_share    0.77\n",
      "dtype: float64\n"
     ]
    }
   ],
   "source": [
    "def run_experiment(_):\n",
    "    control_group = np.random.binomial(n=1, p=8e-2, size=sample_size)\n",
    "    treatment_group = np.random.binomial(n=1, p=9e-2, size=sample_size)\n",
    "\n",
    "    t_stat, p_value_t = stats.ttest_ind(\n",
    "        control_group, treatment_group, alternative=\"less\")\n",
    "    t_stat, p_value_m = stats.mannwhitneyu(\n",
    "        control_group, treatment_group, alternative=\"less\")\n",
    "    p_value_b, _ = abt.bootstrap(\n",
    "        control_group, treatment_group, num_samples=1000)\n",
    "    p_value_bc, _ = abt.bootstrap_concat(\n",
    "        control_group, treatment_group, num_samples=1000)\n",
    "    p_value_p = abt.permutation(\n",
    "        control_group, treatment_group, num_permutations=10000)\n",
    "    p_value_ps = 1 - abt.permutation_shares(sum(control_group), len(\n",
    "        control_group), sum(treatment_group), len(treatment_group))\n",
    "\n",
    "    change_detected = {\n",
    "        \"ttest\": int(p_value_t < alpha),\n",
    "        \"mannwhitneyu\": int(p_value_m < alpha),\n",
    "        \"bootstrap\": int(p_value_b < alpha),\n",
    "        \"bootstrap_concat\": int(p_value_bc < alpha),\n",
    "        \"permutation\": int(p_value_p < alpha),\n",
    "        \"permutation_share\": int(p_value_ps < alpha),\n",
    "    }\n",
    "\n",
    "    return change_detected\n",
    "\n",
    "\n",
    "sample_size = 7000\n",
    "num_experiments = 200\n",
    "alpha = 0.1\n",
    "\n",
    "num_processes = os.cpu_count()  # = 8\n",
    "\n",
    "with Pool(num_processes) as pool:\n",
    "    results = pool.map(run_experiment, range(num_experiments))\n",
    "\n",
    "change_detected = defaultdict(int)\n",
    "for result in results:\n",
    "    for key, value in result.items():\n",
    "        change_detected[key] += value\n",
    "\n",
    "share = {k: v/num_experiments for k, v in change_detected.items()}\n",
    "\n",
    "print(pd.Series(share))"
   ]
  },
  {
   "cell_type": "code",
   "execution_count": 32,
   "metadata": {},
   "outputs": [
    {
     "data": {
      "image/png": "[encoded data removed]",
      "text/plain": [
       "<Figure size 640x480 with 1 Axes>"
      ]
     },
     "metadata": {},
     "output_type": "display_data"
    },
    {
     "name": "stdout",
     "output_type": "stream",
     "text": [
      "meds\n",
      "0.6948542979951258 0.6957476334487243\n",
      "means\n",
      "0.6942202253501056 1.0039094419966212\n"
     ]
    }
   ],
   "source": [
    "data1 = np.random.uniform(0, 2*np.log(2), size=int(1e5))\n",
    "data2 = np.random.exponential(scale=1, size=int(1e5))\n",
    "\n",
    "plt.hist(data1, bins=50, density=True, alpha=0.5, label='Uniform Distribution')\n",
    "plt.hist(data2, bins=100, density=True, alpha=0.5, label='Exponential Distribution')\n",
    "plt.legend()\n",
    "plt.show()\n",
    "\n",
    "\n",
    "print(\"meds\")\n",
    "print(np.median(data1), np.median(data2))\n",
    "print(\"means\")\n",
    "print(np.mean(data1), np.mean(data2))"
   ]
  },
  {
   "cell_type": "code",
   "execution_count": 11,
   "metadata": {},
   "outputs": [
    {
     "name": "stdout",
     "output_type": "stream",
     "text": [
      "mannwhitneyu    1.0\n",
      "dtype: float64\n"
     ]
    }
   ],
   "source": [
    "sample_size = 5000\n",
    "num_experiments = 4000\n",
    "alpha = 0.05\n",
    "\n",
    "num_processes = os.cpu_count()  # = 8\n",
    "\n",
    "\n",
    "def run_experiment(_):\n",
    "    control_group = np.random.uniform(0, 2 * np.log(2), size=sample_size)\n",
    "    treatment_group = np.random.exponential(scale=1, size=sample_size)\n",
    "\n",
    "    t_stat, p_value_m = stats.mannwhitneyu(control_group, treatment_group)\n",
    "\n",
    "    change_detected = {\n",
    "        \"mannwhitneyu\": int(p_value_m < alpha),\n",
    "    }\n",
    "\n",
    "    return change_detected\n",
    "\n",
    "\n",
    "change_detected = defaultdict(int)\n",
    "with Pool(num_processes) as pool:\n",
    "    results = pool.map(run_experiment, range(num_experiments))\n",
    "\n",
    "for result in results:\n",
    "    for key, value in result.items():\n",
    "        change_detected[key] += value\n",
    "\n",
    "share = {k: v / num_experiments for k, v in change_detected.items()}\n",
    "\n",
    "print(pd.Series(share))"
   ]
  },
  {
   "cell_type": "code",
   "execution_count": 34,
   "metadata": {},
   "outputs": [
    {
     "data": {
      "image/png": "[encoded data removed]",
      "text/plain": [
       "<Figure size 640x480 with 1 Axes>"
      ]
     },
     "metadata": {},
     "output_type": "display_data"
    },
    {
     "data": {
      "text/plain": [
       "(0.9933961484256563, 1.002380140327201)"
      ]
     },
     "execution_count": 34,
     "metadata": {},
     "output_type": "execute_result"
    }
   ],
   "source": [
    "data1 =  np.random.uniform(-2, 4, size=int(1e5))\n",
    "data2 =  np.random.normal(loc=1, scale=1, size=int(1e5))\n",
    "\n",
    "plt.hist(data1, bins=100, density=True, alpha=0.5, label='Uniform Distribution')\n",
    "plt.hist(data2, bins=100, density=True, alpha=0.5, label='Exponential Distribution')\n",
    "plt.legend()\n",
    "plt.show()\n",
    "\n",
    "np.median(data1), np.median(data2)"
   ]
  },
  {
   "cell_type": "code",
   "execution_count": 9,
   "metadata": {},
   "outputs": [
    {
     "name": "stdout",
     "output_type": "stream",
     "text": [
      "mannwhitneyu    0.058\n",
      "dtype: float64\n"
     ]
    }
   ],
   "source": [
    "sample_size = 5000\n",
    "num_experiments = 4000\n",
    "alpha = 0.05\n",
    "\n",
    "num_processes = os.cpu_count()  # = 8\n",
    "\n",
    "\n",
    "def run_experiment(_):\n",
    "    control_group = np.random.uniform(-2, 4, size=sample_size)\n",
    "    treatment_group = np.random.normal(loc=1, scale=1, size=sample_size)\n",
    "\n",
    "    t_stat, p_value_m = stats.mannwhitneyu(control_group, treatment_group, alternative=\"less\")\n",
    "\n",
    "    change_detected = {\n",
    "        \"mannwhitneyu\": int(p_value_m < alpha),\n",
    "    }\n",
    "\n",
    "    return change_detected\n",
    "\n",
    "\n",
    "change_detected = defaultdict(int)\n",
    "with Pool(num_processes) as pool:\n",
    "    results = pool.map(run_experiment, range(num_experiments))\n",
    "\n",
    "for result in results:\n",
    "    for key, value in result.items():\n",
    "        change_detected[key] += value\n",
    "\n",
    "share = {k: v / num_experiments for k, v in change_detected.items()}\n",
    "\n",
    "print(pd.Series(share))"
   ]
  },
  {
   "cell_type": "code",
   "execution_count": 15,
   "metadata": {},
   "outputs": [
    {
     "name": "stdout",
     "output_type": "stream",
     "text": [
      "mannwhitneyu    0.082\n",
      "dtype: float64\n"
     ]
    }
   ],
   "source": [
    "sample_size = 5000\n",
    "num_experiments = 4000\n",
    "alpha = 0.05\n",
    "\n",
    "num_processes = os.cpu_count()  # = 8\n",
    "\n",
    "\n",
    "def run_experiment(_):\n",
    "    control_group = np.random.uniform(-10, 10, size=sample_size)\n",
    "    treatment_group = np.random.uniform(-100, 100, size=sample_size)\n",
    "\n",
    "    t_stat, p_value_m = stats.mannwhitneyu(control_group, treatment_group, alternative=\"less\")\n",
    "\n",
    "    change_detected = {\n",
    "        \"mannwhitneyu\": int(p_value_m < alpha),\n",
    "    }\n",
    "\n",
    "    return change_detected\n",
    "\n",
    "\n",
    "change_detected = defaultdict(int)\n",
    "with Pool(num_processes) as pool:\n",
    "    results = pool.map(run_experiment, range(num_experiments))\n",
    "\n",
    "for result in results:\n",
    "    for key, value in result.items():\n",
    "        change_detected[key] += value\n",
    "\n",
    "share = {k: v / num_experiments for k, v in change_detected.items()}\n",
    "\n",
    "print(pd.Series(share))"
   ]
  },
  {
   "cell_type": "code",
   "execution_count": 13,
   "metadata": {},
   "outputs": [
    {
     "data": {
      "application/vnd.jupyter.widget-view+json": {
       "model_id": "17ed0263b23d4124b691d3da74e20e92",
       "version_major": 2,
       "version_minor": 0
      },
      "text/plain": [
       "  0%|          | 0/4000 [00:00<?, ?it/s]"
      ]
     },
     "metadata": {},
     "output_type": "display_data"
    },
    {
     "name": "stdout",
     "output_type": "stream",
     "text": [
      "Mann-whitneyu significance level: 0.1065, [0.0973, 0.1164]\n",
      "T-test significance level: 0.05, [0.0437, 0.0572]\n"
     ]
    }
   ],
   "source": [
    "# Подключим библиотеки\n",
    "import scipy.stats as sps\n",
    "from tqdm.notebook import tqdm # tqdm – библиотека для визуализации прогресса в цикле\n",
    "from statsmodels.stats.proportion import proportion_confint\n",
    "import numpy as np\n",
    " \n",
    "# Заводим счетчики количества отвергнутых гипотез для Манна-Уитни и для t-test\n",
    "mann_bad_cnt = 0\n",
    "ttest_bad_cnt = 0\n",
    " \n",
    "# Прогоняем критерии 1000 раз\n",
    "sz = 4000\n",
    "for i in tqdm(range(sz)):\n",
    "    # Генерируем распределение\n",
    "    test = sps.uniform(loc=-1, scale=2).rvs(5000) # U[-1, 1]\n",
    "    control = sps.uniform(loc=-100, scale=200).rvs(5000) # U[-100, 100]\n",
    "     \n",
    "    # Считаем pvalue\n",
    "    mann_pvalue = sps.mannwhitneyu(control, test, alternative='two-sided').pvalue\n",
    "    ttest_pvalue = sps.ttest_ind(control, test, alternative='two-sided').pvalue\n",
    "     \n",
    "    # отвергаем критерий на уровне 5%\n",
    "    if mann_pvalue < 0.05:\n",
    "        mann_bad_cnt += 1\n",
    " \n",
    "    if ttest_pvalue < 0.05:\n",
    "        ttest_bad_cnt += 1\n",
    " \n",
    "# Строим доверительный интервал для уровня значимости критерия (или для FPR критерия)\n",
    "left_mann_level, right_mann_level = proportion_confint(count = mann_bad_cnt, nobs = sz, alpha=0.05, method='wilson')\n",
    "left_ttest_level, right_ttest_level = proportion_confint(count = ttest_bad_cnt, nobs = sz, alpha=0.05, method='wilson')\n",
    "# Выводим результаты\n",
    "print(f\"Mann-whitneyu significance level: {round(mann_bad_cnt / sz, 4)}, [{round(left_mann_level, 4)}, {round(right_mann_level, 4)}]\")\n",
    "print(f\"T-test significance level: {round(ttest_bad_cnt / sz, 4)}, [{round(left_ttest_level, 4)}, {round(right_ttest_level, 4)}]\")\n"
   ]
  },
  {
   "cell_type": "code",
   "execution_count": null,
   "metadata": {},
   "outputs": [],
   "source": []
  }
 ],
 "metadata": {
  "kernelspec": {
   "display_name": "general",
   "language": "python",
   "name": "python3"
  },
  "language_info": {
   "codemirror_mode": {
    "name": "ipython",
    "version": 3
   },
   "file_extension": ".py",
   "mimetype": "text/x-python",
   "name": "python",
   "nbconvert_exporter": "python",
   "pygments_lexer": "ipython3",
   "version": "3.11.3"
  },
  "orig_nbformat": 4
 },
 "nbformat": 4,
 "nbformat_minor": 2
}
